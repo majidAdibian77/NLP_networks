{
  "cells": [
    {
      "cell_type": "markdown",
      "source": [
        "##### **NLP - HW2 - Part1**\n",
        "##### Student name: **Majid Adibian**\n",
        "##### Student number: **400131078**"
      ],
      "metadata": {
        "id": "GjCo8d1QniEr"
      }
    },
    {
      "cell_type": "markdown",
      "source": [
        "##### install packages"
      ],
      "metadata": {
        "id": "qjTFS-4iAtMN"
      }
    },
    {
      "cell_type": "code",
      "execution_count": null,
      "metadata": {
        "id": "LoesEwN_ut-7",
        "outputId": "67b38a22-d46e-4e5e-c907-93d516356d43"
      },
      "outputs": [
        {
          "name": "stdout",
          "output_type": "stream",
          "text": [
            "Collecting gensim"
          ]
        },
        {
          "name": "stderr",
          "output_type": "stream",
          "text": [
            "WARNING: You are using pip version 21.3.1; however, version 22.0.4 is available.\n",
            "You should consider upgrading via the 'c:\\users\\majid\\appdata\\local\\programs\\python\\python37\\python.exe -m pip install --upgrade pip' command.\n"
          ]
        },
        {
          "name": "stdout",
          "output_type": "stream",
          "text": [
            "\n",
            "  Downloading gensim-4.1.2-cp37-cp37m-win_amd64.whl (24.0 MB)\n",
            "Collecting smart-open>=1.8.1\n",
            "  Downloading smart_open-6.0.0-py3-none-any.whl (58 kB)\n",
            "Requirement already satisfied: scipy>=0.18.1 in c:\\users\\majid\\appdata\\local\\programs\\python\\python37\\lib\\site-packages (from gensim) (1.7.3)\n",
            "Requirement already satisfied: numpy>=1.17.0 in c:\\users\\majid\\appdata\\local\\programs\\python\\python37\\lib\\site-packages (from gensim) (1.21.5)\n",
            "Collecting Cython==0.29.23\n",
            "  Downloading Cython-0.29.23-cp37-cp37m-win_amd64.whl (1.6 MB)\n",
            "Installing collected packages: smart-open, Cython, gensim\n",
            "Successfully installed Cython-0.29.23 gensim-4.1.2 smart-open-6.0.0\n"
          ]
        }
      ],
      "source": [
        "!pip install --upgrade gensim\n",
        "!pip install arabic-reshaper\n",
        "!pip install python-bidi"
      ]
    },
    {
      "cell_type": "markdown",
      "source": [
        "##### download data"
      ],
      "metadata": {
        "id": "DqFZnJDgAypD"
      }
    },
    {
      "cell_type": "code",
      "source": [
        "!gdown --id 1-86CqCHek-U1iH5nW30RfnFU0PYmdhKB \n",
        "!gdown --id 1YzRlYyye_KoEw7_q9NARiCwl3Cn-EH3J "
      ],
      "metadata": {
        "colab": {
          "base_uri": "https://localhost:8080/"
        },
        "id": "cKnuSKGaAQnp",
        "outputId": "ec71e35c-b325-4e67-bee4-642359f6daab"
      },
      "execution_count": null,
      "outputs": [
        {
          "output_type": "stream",
          "name": "stdout",
          "text": [
            "/usr/local/lib/python3.7/dist-packages/gdown/cli.py:131: FutureWarning: Option `--id` was deprecated in version 4.3.1 and will be removed in 5.0. You don't need to pass it anymore to use a file ID.\n",
            "  category=FutureWarning,\n",
            "Downloading...\n",
            "From: https://drive.google.com/uc?id=1-86CqCHek-U1iH5nW30RfnFU0PYmdhKB\n",
            "To: /content/train.csv\n",
            "100% 20.1M/20.1M [00:00<00:00, 68.3MB/s]\n",
            "/usr/local/lib/python3.7/dist-packages/gdown/cli.py:131: FutureWarning: Option `--id` was deprecated in version 4.3.1 and will be removed in 5.0. You don't need to pass it anymore to use a file ID.\n",
            "  category=FutureWarning,\n",
            "Downloading...\n",
            "From: https://drive.google.com/uc?id=1YzRlYyye_KoEw7_q9NARiCwl3Cn-EH3J\n",
            "To: /content/test.csv\n",
            "100% 2.03M/2.03M [00:00<00:00, 190MB/s]\n"
          ]
        }
      ]
    },
    {
      "cell_type": "markdown",
      "metadata": {
        "id": "74tSFjjIut_D"
      },
      "source": [
        "##### import liberaries"
      ]
    },
    {
      "cell_type": "code",
      "execution_count": null,
      "metadata": {
        "id": "_gFlKBtVj_rU"
      },
      "outputs": [],
      "source": [
        "import gensim\n",
        "from gensim.corpora import Dictionary\n",
        "from gensim.models import TfidfModel\n",
        "from gensim.models import Word2Vec\n",
        "from gensim.test.utils import common_texts\n",
        "from gensim.models.doc2vec import Doc2Vec, TaggedDocument\n",
        "\n",
        "from sklearn.metrics.pairwise import cosine_similarity\n",
        "from sklearn.decomposition import PCA\n",
        "\n",
        "import pandas as pd\n",
        "import numpy as np\n",
        "import matplotlib.pyplot as plt\n",
        "import re\n",
        "\n",
        "from bidi.algorithm import get_display\n",
        "import arabic_reshaper\n",
        "\n",
        "mian_path = ''"
      ]
    },
    {
      "cell_type": "markdown",
      "metadata": {
        "id": "9Xauil99ut_G"
      },
      "source": [
        "### step 1"
      ]
    },
    {
      "cell_type": "markdown",
      "metadata": {
        "id": "PFi4mU-5ut_G"
      },
      "source": [
        "##### read data"
      ]
    },
    {
      "cell_type": "code",
      "execution_count": null,
      "metadata": {
        "colab": {
          "base_uri": "https://localhost:8080/",
          "height": 206
        },
        "id": "a2AQ4zqQ7HCs",
        "outputId": "8d338b81-729f-4808-ac42-65430f167b63"
      },
      "outputs": [
        {
          "data": {
            "text/html": [
              "<div>\n",
              "<style scoped>\n",
              "    .dataframe tbody tr th:only-of-type {\n",
              "        vertical-align: middle;\n",
              "    }\n",
              "\n",
              "    .dataframe tbody tr th {\n",
              "        vertical-align: top;\n",
              "    }\n",
              "\n",
              "    .dataframe thead th {\n",
              "        text-align: right;\n",
              "    }\n",
              "</style>\n",
              "<table border=\"1\" class=\"dataframe\">\n",
              "  <thead>\n",
              "    <tr style=\"text-align: right;\">\n",
              "      <th></th>\n",
              "      <th>id</th>\n",
              "      <th>article</th>\n",
              "    </tr>\n",
              "  </thead>\n",
              "  <tbody>\n",
              "    <tr>\n",
              "      <th>0</th>\n",
              "      <td>Doc26</td>\n",
              "      <td># آيا مشكل اصلي سينماي ايران فيلمنامه است ؟ # ...</td>\n",
              "    </tr>\n",
              "    <tr>\n",
              "      <th>1</th>\n",
              "      <td>Doc591</td>\n",
              "      <td>ضمن تؤمين معاش مردم و فراهم كردن زمينه هاي زند...</td>\n",
              "    </tr>\n",
              "    <tr>\n",
              "      <th>2</th>\n",
              "      <td>Doc810</td>\n",
              "      <td>كارشناسان مي گويند با روند وضع موجود، ترافيك ت...</td>\n",
              "    </tr>\n",
              "    <tr>\n",
              "      <th>3</th>\n",
              "      <td>Doc514</td>\n",
              "      <td>سرپرست تيم فوتبال پيروزي گفت : موضوع استخدام ا...</td>\n",
              "    </tr>\n",
              "    <tr>\n",
              "      <th>4</th>\n",
              "      <td>Doc469</td>\n",
              "      <td># سخنان رهبر انقلاب # روزنامه رسالت در سرمقال...</td>\n",
              "    </tr>\n",
              "  </tbody>\n",
              "</table>\n",
              "</div>"
            ],
            "text/plain": [
              "       id                                            article\n",
              "0   Doc26  # آيا مشكل اصلي سينماي ايران فيلمنامه است ؟ # ...\n",
              "1  Doc591  ضمن تؤمين معاش مردم و فراهم كردن زمينه هاي زند...\n",
              "2  Doc810  كارشناسان مي گويند با روند وضع موجود، ترافيك ت...\n",
              "3  Doc514  سرپرست تيم فوتبال پيروزي گفت : موضوع استخدام ا...\n",
              "4  Doc469   # سخنان رهبر انقلاب # روزنامه رسالت در سرمقال..."
            ]
          },
          "execution_count": 12,
          "metadata": {},
          "output_type": "execute_result"
        }
      ],
      "source": [
        "train_data = pd.read_csv(mian_path + 'train.csv')\n",
        "train_data.head()"
      ]
    },
    {
      "cell_type": "markdown",
      "metadata": {
        "id": "0YrnrgjPut_I"
      },
      "source": [
        "##### convert docs to list of tokens"
      ]
    },
    {
      "cell_type": "code",
      "execution_count": null,
      "metadata": {
        "id": "gYViueFd86Gf"
      },
      "outputs": [],
      "source": [
        "def preplocess_text(text):\n",
        "    text = re.sub(r'[^\\w\\s]', '', text)\n",
        "    text = re.sub('\\s+', ' ', text)\n",
        "    return text.split()\n",
        "\n",
        "def tokenize_data(data):\n",
        "    tokenized_data = {}\n",
        "    for index, row in data.iterrows():\n",
        "        tokens = preplocess_text(row['article'])\n",
        "        tokenized_data[row['id']] = tokens\n",
        "    return tokenized_data\n",
        "\n",
        "docs_tokenized = tokenize_data(train_data)"
      ]
    },
    {
      "cell_type": "markdown",
      "metadata": {
        "id": "GaVIXK8Dut_J"
      },
      "source": [
        "##### train word2vec"
      ]
    },
    {
      "cell_type": "code",
      "execution_count": null,
      "metadata": {
        "id": "E5sws_xc9tA_"
      },
      "outputs": [],
      "source": [
        "docs_tokens = docs_tokenized.values()\n",
        "word2vec_model = gensim.models.Word2Vec(sentences=docs_tokens, vector_size=300, window=5, sg=1, min_count=1, workers=4)"
      ]
    },
    {
      "cell_type": "markdown",
      "metadata": {
        "id": "ITTdBKQhut_K"
      },
      "source": [
        "### step 2"
      ]
    },
    {
      "cell_type": "markdown",
      "metadata": {
        "id": "W3bHqfkwut_K"
      },
      "source": [
        "#### step 2.1: calculate doc vector using word2vec and tfidf"
      ]
    },
    {
      "cell_type": "markdown",
      "metadata": {
        "id": "EmaBwaZcut_K"
      },
      "source": [
        "##### calculate tfidf "
      ]
    },
    {
      "cell_type": "code",
      "execution_count": null,
      "metadata": {
        "id": "Cd3GYL3put_K"
      },
      "outputs": [],
      "source": [
        "def get_tfidf(docs_tokenized):\n",
        "    docs_ids = []\n",
        "    docs_tokens = []\n",
        "    for doc_id, tokens in docs_tokenized.items():\n",
        "        docs_tokens.append(tokens)\n",
        "        docs_ids.append(doc_id)\n",
        "    dictionary = Dictionary()\n",
        "    BoW_corpus = [dictionary.doc2bow(tokens, allow_update=True) for tokens in docs_tokens]\n",
        "    tfidf = TfidfModel(BoW_corpus, smartirs='ntc')\n",
        "    docs_terms_tfidf = {}\n",
        "    for i, doc in enumerate(tfidf[BoW_corpus]):\n",
        "        docs_terms_tfidf[docs_ids[i]] = {dictionary[id]: freq for id, freq in doc}\n",
        "    return docs_terms_tfidf\n",
        "\n",
        "docs_terms_tfidf = get_tfidf(docs_tokenized)"
      ]
    },
    {
      "cell_type": "markdown",
      "metadata": {
        "id": "1XxtlO2out_L"
      },
      "source": [
        "##### calculate doc vector using word2vec and tfidf"
      ]
    },
    {
      "cell_type": "code",
      "execution_count": null,
      "metadata": {
        "id": "wnP-oUczblAm"
      },
      "outputs": [],
      "source": [
        "def get_doc_vec1(doc_terms_tfidf, word2vec):\n",
        "    vec = np.zeros(word2vec.wv.get_vector(next(iter(doc_terms_tfidf))).shape)\n",
        "    for word, freq in doc_terms_tfidf.items():\n",
        "        try:\n",
        "            vec += (word2vec.wv.get_vector(word) * freq)\n",
        "        except:\n",
        "            pass\n",
        "    return vec\n",
        "\n",
        "def get_docs_vec1(docs_terms_tfidf, word2vec):\n",
        "    docs_vec = {}\n",
        "    l = 0\n",
        "    for doc_id, doc_terms_tfidf in docs_terms_tfidf.items():\n",
        "        vec = get_doc_vec1(doc_terms_tfidf, word2vec)\n",
        "        docs_vec[doc_id] = vec\n",
        "    return docs_vec\n",
        "\n",
        "docs_vec1 = get_docs_vec1(docs_terms_tfidf, word2vec_model)"
      ]
    },
    {
      "cell_type": "markdown",
      "metadata": {
        "id": "AiiB4tAkut_M"
      },
      "source": [
        "#### step 2.2: calculate doc vector using doc2vec"
      ]
    },
    {
      "cell_type": "markdown",
      "metadata": {
        "id": "59VEunE1ut_M"
      },
      "source": [
        "##### train doc2vec model"
      ]
    },
    {
      "cell_type": "code",
      "execution_count": null,
      "metadata": {
        "id": "bE8_Blcqut_M"
      },
      "outputs": [],
      "source": [
        "taged_docs = [TaggedDocument(tokens, [doc_id]) for doc_id, tokens in docs_tokenized.items()]\n",
        "doc2vec_model = Doc2Vec(taged_docs, vector_size=300, window=5, min_count=1, workers=4)"
      ]
    },
    {
      "cell_type": "markdown",
      "metadata": {
        "id": "O0Vvn-o3ut_M"
      },
      "source": [
        "##### calculate doc vector using doc2vec"
      ]
    },
    {
      "cell_type": "code",
      "execution_count": null,
      "metadata": {
        "id": "b8qzrbBSut_N"
      },
      "outputs": [],
      "source": [
        "def get_docs_vec2(doc2vec_model, docs_tokenized):\n",
        "    docs_vec = {}\n",
        "    for doc_id, tokens in docs_tokenized.items():\n",
        "        docs_vec[doc_id] = doc2vec_model.infer_vector(tokens)\n",
        "    return docs_vec\n",
        "\n",
        "docs_vec2 = get_docs_vec2(doc2vec_model, docs_tokenized)"
      ]
    },
    {
      "cell_type": "markdown",
      "metadata": {
        "id": "Y0mB9mxqut_N"
      },
      "source": [
        "### step 3"
      ]
    },
    {
      "cell_type": "markdown",
      "metadata": {
        "id": "vge59fcIut_N"
      },
      "source": [
        "##### read test data and create doc vectors using above functions"
      ]
    },
    {
      "cell_type": "code",
      "execution_count": null,
      "metadata": {
        "id": "pHh_eJ8Hut_N"
      },
      "outputs": [],
      "source": [
        "test_data = pd.read_csv(mian_path + 'test.csv')\n",
        "test_docs_tokenized = tokenize_data(test_data)\n",
        "test_docs_terms_tfidf = get_tfidf(test_docs_tokenized)\n",
        "test_docs_vec1 = get_docs_vec1(test_docs_terms_tfidf, word2vec_model)\n",
        "test_docs_vec2 = get_docs_vec2(doc2vec_model, test_docs_tokenized)"
      ]
    },
    {
      "cell_type": "markdown",
      "metadata": {
        "id": "FehtF-bVut_O"
      },
      "source": [
        "##### find most similar doc to the input doc"
      ]
    },
    {
      "cell_type": "code",
      "execution_count": null,
      "metadata": {
        "id": "EWhUMac5ut_O"
      },
      "outputs": [],
      "source": [
        "def find_most_similar_doc(train_docs_vec, test_docs_vec, input_doc_id):\n",
        "    input_doc_vec = test_docs_vec[input_doc_id]\n",
        "    similar_doc = max(train_docs_vec.keys(), key=lambda x: cosine_similarity([train_docs_vec[x]], [input_doc_vec])[0][0])\n",
        "    similarity = cosine_similarity([train_docs_vec[similar_doc]], [input_doc_vec])[0][0]\n",
        "    return similar_doc, similarity"
      ]
    },
    {
      "cell_type": "code",
      "execution_count": null,
      "metadata": {
        "id": "NHk88LG6ut_O",
        "outputId": "ff8107e7-780d-4572-dbeb-bb19821dcbda"
      },
      "outputs": [
        {
          "name": "stdout",
          "output_type": "stream",
          "text": [
            "Doc vector using tfidf:\n",
            "\tMost similar doc to Doc1 is Doc165: cosin similarity = 0.9885\n",
            "\tMost similar doc to Doc3 is Doc19: cosin similarity = 0.9950\n",
            "\tMost similar doc to Doc5 is Doc26: cosin similarity = 0.9884\n",
            "\tMost similar doc to Doc25 is Doc679: cosin similarity = 0.9998\n",
            "\tMost similar doc to Doc36 is Doc667: cosin similarity = 0.9837\n",
            "Doc vector using Doc2vec:\n",
            "\tMost similar doc to Doc1 is Doc33: cosin similarity = 0.6962\n",
            "\tMost similar doc to Doc3 is Doc19: cosin similarity = 0.8798\n",
            "\tMost similar doc to Doc5 is Doc7: cosin similarity = 0.7016\n",
            "\tMost similar doc to Doc25 is Doc679: cosin similarity = 0.9912\n",
            "\tMost similar doc to Doc36 is Doc550: cosin similarity = 0.7047\n"
          ]
        }
      ],
      "source": [
        "test_docs_id = ['Doc1', 'Doc3', 'Doc5', 'Doc25', 'Doc36']\n",
        "print('Doc vector using tfidf:')\n",
        "for input_doc_id in test_docs_id:\n",
        "    similar_doc, similarity = find_most_similar_doc(docs_vec1, test_docs_vec1, input_doc_id)\n",
        "    print('\\tMost similar doc to {0} is {1}: cosin similarity = {2:.4f}'.format(input_doc_id, similar_doc, similarity))\n",
        "    \n",
        "print('Doc vector using Doc2vec:')\n",
        "for input_doc_id in test_docs_id:\n",
        "    similar_doc, similarity = find_most_similar_doc(docs_vec2, test_docs_vec2, input_doc_id)\n",
        "    print('\\tMost similar doc to {0} is {1}: cosin similarity = {2:.4f}'.format(input_doc_id, similar_doc, similarity))"
      ]
    },
    {
      "cell_type": "markdown",
      "metadata": {
        "id": "6DzYl3PFut_O"
      },
      "source": [
        "### step 4"
      ]
    },
    {
      "cell_type": "markdown",
      "metadata": {
        "id": "KE-h-jwCut_O"
      },
      "source": [
        "##### find the most similar words to the inputs word"
      ]
    },
    {
      "cell_type": "code",
      "execution_count": null,
      "metadata": {
        "id": "0zU-FV37ut_P"
      },
      "outputs": [],
      "source": [
        "def get_most_similar_words(input_word, word2vec_model):\n",
        "    similar_words = word2vec_model.wv.most_similar(positive=input_word, topn=3)\n",
        "    similar_words = {w[0]: round(w[1], 3) for w in similar_words}\n",
        "    return similar_words"
      ]
    },
    {
      "cell_type": "code",
      "execution_count": null,
      "metadata": {
        "id": "Sk8fvPMzut_P",
        "outputId": "2e51ad31-03df-486a-9de3-72fc9f7193b2"
      },
      "outputs": [
        {
          "name": "stdout",
          "output_type": "stream",
          "text": [
            "3 most similar words for تهران:\n",
            "\t{'اصفهان': 0.615, 'تبريز': 0.585, 'پاريس': 0.58}\n",
            "3 most similar words for بهداشت:\n",
            "\t{'باروري': 0.778, 'بهداشتي': 0.738, 'مراقبتهاي': 0.726}\n",
            "3 most similar words for دفاع:\n",
            "\t{'مقدس': 0.683, 'ضدموشكي': 0.655, 'پشتيباني': 0.651}\n",
            "3 most similar words for رودخانه:\n",
            "\t{'درياچه': 0.839, 'كارون': 0.811, 'ارتفاعات': 0.804}\n",
            "3 most similar words for سرد:\n",
            "\t{'زمستان': 0.793, 'مرطوب': 0.778, 'بادهاي': 0.775}\n",
            "3 most similar words for فرهنگ:\n",
            "\t{'ارشاد': 0.767, 'سمعي': 0.701, 'تمدن': 0.692}\n",
            "3 most similar words for استقلال:\n",
            "\t{'تماميت': 0.68, 'پاس': 0.671, 'ارضي': 0.66}\n"
          ]
        }
      ],
      "source": [
        "similar_words = {}\n",
        "for word in ['تهران', 'بهداشت', 'دفاع', 'رودخانه', 'سرد', 'فرهنگ', 'استقلال']:\n",
        "    print('3 most similar words for {}:'.format(word))\n",
        "    similar_words[word] = get_most_similar_words(word, word2vec_model)\n",
        "    print('\\t' + str(similar_words[word]))"
      ]
    },
    {
      "cell_type": "markdown",
      "metadata": {
        "id": "b9t5DBuSut_P"
      },
      "source": [
        "##### use PCA to plot similar words"
      ]
    },
    {
      "cell_type": "code",
      "execution_count": null,
      "metadata": {
        "id": "bAHNGkNrut_P",
        "outputId": "89f0a27b-b95f-454b-cd3a-bc4e56bee065"
      },
      "outputs": [
        {
          "data": {
            "image/png": "[encoded data removed]",
            "text/plain": [
              "<Figure size 720x432 with 1 Axes>"
            ]
          },
          "metadata": {
            "needs_background": "light"
          },
          "output_type": "display_data"
        }
      ],
      "source": [
        "def get_PCA(words_similarity, word2vec_model,  dim):\n",
        "    vecs = []\n",
        "    for word, sim_words in words_similarity.items():\n",
        "        vecs.append(word2vec_model.wv[word])\n",
        "        for w in sim_words:\n",
        "            vecs.append(word2vec_model.wv[w])\n",
        "    vecs = np.array(vecs)\n",
        "    pca = PCA(n_components=dim)\n",
        "    pca.fit(vecs)\n",
        "    return pca\n",
        "\n",
        "def plot_points(all_vecs, all_words, dim):\n",
        "    if dim == 2:\n",
        "        plt.rcParams[\"figure.figsize\"] = (10,6)\n",
        "        for i, vecs in enumerate(all_vecs):\n",
        "            words = all_words[i]\n",
        "            plt.scatter(x=[v[0] for v in vecs], y=[v[1] for v in vecs])\n",
        "            for j, vec in enumerate(vecs):\n",
        "                word = words[j]\n",
        "                word = arabic_reshaper.reshape(word)\n",
        "                word = get_display(word) \n",
        "                plt.text(vec[0], vec[1], word, horizontalalignment='center',verticalalignment='top')\n",
        "        plt.title('scatter of 2D word vectors')\n",
        "    else:\n",
        "        fig = plt.figure(figsize = (10, 7))\n",
        "        ax = plt.axes(projection =\"3d\")\n",
        "        for i, vecs in enumerate(all_vecs):\n",
        "            words = all_words[i]\n",
        "            ax.scatter3D([v[0] for v in vecs], [v[1] for v in vecs], [v[2] for v in vecs])\n",
        "            for j, vec in enumerate(vecs):\n",
        "                word = words[j]\n",
        "                word = arabic_reshaper.reshape(word) \n",
        "                word = get_display(word) \n",
        "                ax.text(vec[0], vec[1], vec[2], word, horizontalalignment='center',verticalalignment='top')\n",
        "        plt.title('scatter of 3D word vectors')\n",
        "    plt.tight_layout()\n",
        "    plt.show()\n",
        "\n",
        "def word_vec_represent(words_similarity, word2vec_model, dim):\n",
        "    pca = get_PCA(words_similarity, word2vec_model, dim)\n",
        "    all_vecs = []\n",
        "    all_words = []\n",
        "    for word, sim_words in words_similarity.items():\n",
        "        vecs = []\n",
        "        words = [word]\n",
        "        vec = word2vec_model.wv.get_vector(word)\n",
        "        vecs.append(pca.transform([vec])[0])\n",
        "        for w in sim_words:\n",
        "            vec = word2vec_model.wv.get_vector(w)\n",
        "            vecs.append(pca.transform([vec])[0])\n",
        "            words.append(w)\n",
        "        all_vecs.append(vecs)\n",
        "        all_words.append(words)\n",
        "    plot_points(all_vecs, all_words, dim)\n",
        "    \n",
        "word_vec_represent(similar_words, word2vec_model, 2)"
      ]
    },
    {
      "cell_type": "code",
      "execution_count": null,
      "metadata": {
        "id": "ZiFljBPput_Q",
        "outputId": "4b861beb-c5e9-4dfd-8cf9-527e9f2dd190"
      },
      "outputs": [
        {
          "data": {
            "image/png": "[encoded data removed]",
            "text/plain": [
              "<Figure size 720x504 with 1 Axes>"
            ]
          },
          "metadata": {
            "needs_background": "light"
          },
          "output_type": "display_data"
        }
      ],
      "source": [
        "word_vec_represent(similar_words, word2vec_model, 3)"
      ]
    },
    {
      "cell_type": "code",
      "execution_count": null,
      "metadata": {
        "id": "kzxnFzgqut_Q"
      },
      "outputs": [],
      "source": [
        ""
      ]
    }
  ],
  "metadata": {
    "colab": {
      "collapsed_sections": [],
      "name": "part1.ipynb",
      "provenance": [],
      "toc_visible": true
    },
    "kernelspec": {
      "display_name": "Python 3",
      "language": "python",
      "name": "python3"
    },
    "language_info": {
      "codemirror_mode": {
        "name": "ipython",
        "version": 3
      },
      "file_extension": ".py",
      "mimetype": "text/x-python",
      "name": "python",
      "nbconvert_exporter": "python",
      "pygments_lexer": "ipython3",
      "version": "3.7.4"
    }
  },
  "nbformat": 4,
  "nbformat_minor": 0
}